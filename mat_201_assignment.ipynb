{
 "cells": [
  {
   "cell_type": "markdown",
   "metadata": {},
   "source": [
    "Q.1 Write a function called rectangle that takes two integers m and n as arguments and prints out an m × n box consisting of asterisks."
   ]
  },
  {
   "cell_type": "code",
   "execution_count": 1,
   "metadata": {},
   "outputs": [
    {
     "name": "stdout",
     "output_type": "stream",
     "text": [
      "Enter Height of the Rectangle: 2\n",
      "Enter Width of the Rectangle: 6\n",
      "Result Rectangle \n",
      "* * * * * * \n",
      "* * * * * * \n"
     ]
    }
   ],
   "source": [
    "def rectangle(m,n):\n",
    "    for i in range(m):\n",
    "        for j in range(n):\n",
    "            print(end='* ')\n",
    "        print()\n",
    "a=int(input('Enter Height of the Rectangle: '))\n",
    "b=int(input('Enter Width of the Rectangle: '))\n",
    "print('Result Rectangle ')\n",
    "rectangle(a,b)"
   ]
  },
  {
   "cell_type": "code",
   "execution_count": null,
   "metadata": {},
   "outputs": [],
   "source": []
  },
  {
   "cell_type": "code",
   "execution_count": null,
   "metadata": {},
   "outputs": [],
   "source": []
  },
  {
   "cell_type": "markdown",
   "metadata": {},
   "source": [
    "Q.2 Write a function called add_excitement that takes a list of strings and adds an exclamation point ( ! ) to the end of each string in the list. The program should modify the original list and not return anything."
   ]
  },
  {
   "cell_type": "code",
   "execution_count": 7,
   "metadata": {},
   "outputs": [
    {
     "name": "stdout",
     "output_type": "stream",
     "text": [
      "Enter line number: 2\n",
      "Enter your text:hello world\n",
      "Enter your text:python\n",
      "['hello world!', 'python!']\n"
     ]
    }
   ],
   "source": [
    "def Add_Excitment(my_list):\n",
    "    i=0\n",
    "    while i<len(my_list):\n",
    "        my_list[i]=my_list[i]+'!'\n",
    "        i=i+1\n",
    "a=input('Enter line number: ')\n",
    "a=int(a)\n",
    "List=['s'] * a\n",
    "j=0\n",
    "while j<len(List):\n",
    "    List[j]=input('Enter your text:')\n",
    "    j=j+1\n",
    "Add_Excitment(List)\n",
    "print(List)"
   ]
  },
  {
   "cell_type": "code",
   "execution_count": null,
   "metadata": {},
   "outputs": [],
   "source": []
  },
  {
   "cell_type": "code",
   "execution_count": null,
   "metadata": {},
   "outputs": [],
   "source": []
  },
  {
   "cell_type": "markdown",
   "metadata": {},
   "source": [
    "Q.3 Write the same function except that it should not modify the original list and should instead return a new list."
   ]
  },
  {
   "cell_type": "code",
   "execution_count": 6,
   "metadata": {},
   "outputs": [
    {
     "name": "stdout",
     "output_type": "stream",
     "text": [
      "Enter line number: 2\n",
      "Enter your text:hello world\n",
      "Enter your text:python\n",
      "Input List:  ['hello world', 'python']\n",
      "New List:  ['hello world!', 'python!']\n"
     ]
    }
   ],
   "source": [
    "def Add_Excitment(my_list):\n",
    "    new_list=[]\n",
    "    i=0\n",
    "    while i<len(my_list):\n",
    "        new_list.insert(i,my_list[i]+'!')\n",
    "        i=i+1\n",
    "    return new_list\n",
    "a=input('Enter line number: ')\n",
    "a=int(a)\n",
    "List=['s'] * a\n",
    "j=0\n",
    "while j<len(List):\n",
    "    List[j]=input('Enter your text:')\n",
    "    j=j+1\n",
    "res_list=Add_Excitment(List)\n",
    "print('Input List: ',List)\n",
    "print('New List: ',res_list)"
   ]
  },
  {
   "cell_type": "code",
   "execution_count": null,
   "metadata": {},
   "outputs": [],
   "source": []
  },
  {
   "cell_type": "code",
   "execution_count": null,
   "metadata": {},
   "outputs": [],
   "source": []
  },
  {
   "cell_type": "markdown",
   "metadata": {},
   "source": [
    "Q.4 The digital root of a number n is obtained as follows: Add up the digits n to get a new number. Add up the digits of that to get another new number. Keep doing this until you get a number that has only one digit. That number is the digital root. For example, if n = 45893 , we add up the digits to get 4 + 5 + 8 + 9 + 3 = 29 . We then add up the digits of 29 to get 2 + 9 = 11 . We then add up the digits of 11 to get 1 + 1 = 2 . Since 2 has only one digit, 2 is our digital root. Write a function that returns the digital root of an integer n . [Note: there is a shortcut, where the digital root is equal to n mod 9, but do not use that here.]"
   ]
  },
  {
   "cell_type": "code",
   "execution_count": 10,
   "metadata": {},
   "outputs": [
    {
     "name": "stdout",
     "output_type": "stream",
     "text": [
      "Enter a Number45893\n",
      "The Digital Root of 45893 is 2\n"
     ]
    }
   ],
   "source": [
    "def Sum_Fn(n):\n",
    "    sum=0\n",
    "    for j in n:\n",
    "        sum=sum+int(j)\n",
    "    return sum\n",
    "def Digital_Root(num):\n",
    "    x=Sum_Fn(num)\n",
    "    while x>9:\n",
    "        z=str(x)\n",
    "        x=Sum_Fn(z)\n",
    "    return x\n",
    "m=input('Enter a Number')\n",
    "a=Digital_Root(m)\n",
    "print('The Digital Root of',m,'is',a)"
   ]
  },
  {
   "cell_type": "code",
   "execution_count": null,
   "metadata": {},
   "outputs": [],
   "source": []
  },
  {
   "cell_type": "code",
   "execution_count": null,
   "metadata": {},
   "outputs": [],
   "source": []
  },
  {
   "cell_type": "markdown",
   "metadata": {},
   "source": [
    "Q.5 Write a function that takes an integer n and returns a random integer with exactly n digits. For instance, if n is 3, then 125 and 593 would be valid return values, but 093 would not because that is really 93, which is a two-digit number."
   ]
  },
  {
   "cell_type": "code",
   "execution_count": 20,
   "metadata": {},
   "outputs": [
    {
     "name": "stdout",
     "output_type": "stream",
     "text": [
      "Enter your Number: 5\n",
      "The Random Value of is : 26761\n"
     ]
    }
   ],
   "source": [
    "def Random_Value_Generator(num):\n",
    "    x=int(num)   \n",
    "    if x!=0:\n",
    "        j=1\n",
    "        low='1'\n",
    "        while j<x:\n",
    "            low=low+'0'\n",
    "            j=j+1\n",
    "        \n",
    "        high=low+'0'\n",
    "        low=int(low)\n",
    "        high=int(high)-1\n",
    "    \n",
    "        import random\n",
    "        i=random.randint(low,high)\n",
    "        return i\n",
    "    else:\n",
    "        return 0\n",
    "\n",
    "a=input('Enter your Number: ')\n",
    "s=Random_Value_Generator(a)\n",
    "print('The Random Value of is :',s)"
   ]
  },
  {
   "cell_type": "code",
   "execution_count": null,
   "metadata": {},
   "outputs": [],
   "source": []
  },
  {
   "cell_type": "code",
   "execution_count": null,
   "metadata": {},
   "outputs": [],
   "source": []
  },
  {
   "cell_type": "markdown",
   "metadata": {},
   "source": [
    "Q.6 Write a function called matches that takes two strings as arguments and returns how many matches there are between the strings. A match is where the two strings have the same character at the same index. For instance, ' python ' and ' path ' match in the first, third, and fourth characters, so the function should return 3."
   ]
  },
  {
   "cell_type": "code",
   "execution_count": 24,
   "metadata": {},
   "outputs": [
    {
     "name": "stdout",
     "output_type": "stream",
     "text": [
      "Enter your word:path\n",
      "Enter other word:python\n",
      "they have 3 matches\n"
     ]
    }
   ],
   "source": [
    "def matches(string_1,string_2):\n",
    "    m_1=len(string_1)\n",
    "    m_2=len(string_2)\n",
    "    result=0\n",
    "    i=0\n",
    "    if(m_1<m_2):\n",
    "        while(i<m_1):\n",
    "            if(string_1[i]==string_2[i]):\n",
    "                result=result+1\n",
    "            i=i+1\n",
    "    else:\n",
    "        while(i<m_2):\n",
    "            if(string_1[i]==string_2[i]):\n",
    "                result=result+1\n",
    "            i=i+1\n",
    "    return result\n",
    "a=input(\"Enter your word:\")\n",
    "b=input('Enter other word:')\n",
    "z=matches(a,b)\n",
    "print('they have',z,'matches')"
   ]
  },
  {
   "cell_type": "code",
   "execution_count": null,
   "metadata": {},
   "outputs": [],
   "source": []
  },
  {
   "cell_type": "code",
   "execution_count": null,
   "metadata": {},
   "outputs": [],
   "source": []
  },
  {
   "cell_type": "markdown",
   "metadata": {},
   "source": [
    "Q.7 Write a function called primes that is given a number n and returns a list of the first n primes. Let the default value of n be 100."
   ]
  },
  {
   "cell_type": "code",
   "execution_count": 28,
   "metadata": {},
   "outputs": [
    {
     "name": "stdout",
     "output_type": "stream",
     "text": [
      "Enetr your Number:100\n",
      "Prime Number List:\n",
      " [2, 3, 5, 7, 11, 13, 17, 19, 23, 29, 31, 37, 41, 43, 47, 53, 59, 61, 67, 71, 73, 79, 83, 89, 97]\n"
     ]
    }
   ],
   "source": [
    "def primes(m):\n",
    "    l_i=0\n",
    "    my_list=[]\n",
    "    i=2\n",
    "    while i<=m:\n",
    "        is_prime=True\n",
    "        j=2\n",
    "        while is_prime==True and j<i:\n",
    "            if i%j==0:\n",
    "                is_prime=False\n",
    "            j=j+1\n",
    "        if is_prime==True:\n",
    "            my_list.insert(l_i,i)\n",
    "            l_i=l_i+1\n",
    "        i=i+1\n",
    "    return my_list\n",
    "a=int(input('Enetr your Number:'))\n",
    "result_list=primes(a)\n",
    "print('Prime Number List:\\n',result_list)"
   ]
  },
  {
   "cell_type": "code",
   "execution_count": null,
   "metadata": {},
   "outputs": [],
   "source": []
  },
  {
   "cell_type": "code",
   "execution_count": null,
   "metadata": {},
   "outputs": [],
   "source": []
  },
  {
   "cell_type": "markdown",
   "metadata": {},
   "source": [
    "Q.8 Recall that if s is a string, then s.find( ' a ' ) will find the location of the first a in s . The problem is that it does not find the location of every a. Write a function called findall that given a string and a single character, returns a list containing all of the locations of that character in the string. It should return an empty list if there are no occurrences of the character in the string."
   ]
  },
  {
   "cell_type": "code",
   "execution_count": 34,
   "metadata": {},
   "outputs": [
    {
     "name": "stdout",
     "output_type": "stream",
     "text": [
      "Enter your String: hello\n",
      "Enter your Character: l\n",
      "The position list:\n",
      " [2, 3]\n"
     ]
    }
   ],
   "source": [
    "def find_all(string,character):\n",
    "    my_lst=[]\n",
    "    l_i=0\n",
    "    j=0\n",
    "    for c in string:\n",
    "        if c==character:\n",
    "            my_lst.insert(l_i,j)\n",
    "            l_i=l_i+1\n",
    "        j=j+1\n",
    "    return my_lst\n",
    "m_string=input('Enter your String: ')\n",
    "m_character=input('Enter your Character: ')\n",
    "result_list=find_all(m_string,m_character)\n",
    "print('The position list:\\n',result_list)"
   ]
  },
  {
   "cell_type": "code",
   "execution_count": null,
   "metadata": {},
   "outputs": [],
   "source": []
  }
 ],
 "metadata": {
  "kernelspec": {
   "display_name": "Python 3",
   "language": "python",
   "name": "python3"
  },
  "language_info": {
   "codemirror_mode": {
    "name": "ipython",
    "version": 3
   },
   "file_extension": ".py",
   "mimetype": "text/x-python",
   "name": "python",
   "nbconvert_exporter": "python",
   "pygments_lexer": "ipython3",
   "version": "3.6.5"
  }
 },
 "nbformat": 4,
 "nbformat_minor": 2
}
